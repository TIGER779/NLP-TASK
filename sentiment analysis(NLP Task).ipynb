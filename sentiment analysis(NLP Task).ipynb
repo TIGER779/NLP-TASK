{
 "cells": [
  {
   "cell_type": "markdown",
   "metadata": {
    "id": "EQJ_gLY07PSi"
   },
   "source": [
    "# **Import Libraries 🌍**"
   ]
  },
  {
   "cell_type": "code",
   "execution_count": 1,
   "metadata": {
    "colab": {
     "base_uri": "https://localhost:8080/"
    },
    "executionInfo": {
     "elapsed": 18206,
     "status": "ok",
     "timestamp": 1742426445442,
     "user": {
      "displayName": "Abdelwahed Ragab",
      "userId": "16581433264313502329"
     },
     "user_tz": -120
    },
    "id": "pSCe7AF3UtHF",
    "outputId": "4dd4b4f3-35d4-4cf9-defc-a3d528d20112"
   },
   "outputs": [
    {
     "name": "stdout",
     "output_type": "stream",
     "text": [
      "Requirement already satisfied: opendatasets in /usr/local/lib/python3.11/dist-packages (0.1.22)\n",
      "Requirement already satisfied: tqdm in /usr/local/lib/python3.11/dist-packages (from opendatasets) (4.67.1)\n",
      "Requirement already satisfied: kaggle in /usr/local/lib/python3.11/dist-packages (from opendatasets) (1.6.17)\n",
      "Requirement already satisfied: click in /usr/local/lib/python3.11/dist-packages (from opendatasets) (8.1.8)\n",
      "Requirement already satisfied: six>=1.10 in /usr/local/lib/python3.11/dist-packages (from kaggle->opendatasets) (1.17.0)\n",
      "Requirement already satisfied: certifi>=2023.7.22 in /usr/local/lib/python3.11/dist-packages (from kaggle->opendatasets) (2025.1.31)\n",
      "Requirement already satisfied: python-dateutil in /usr/local/lib/python3.11/dist-packages (from kaggle->opendatasets) (2.8.2)\n",
      "Requirement already satisfied: requests in /usr/local/lib/python3.11/dist-packages (from kaggle->opendatasets) (2.32.3)\n",
      "Requirement already satisfied: python-slugify in /usr/local/lib/python3.11/dist-packages (from kaggle->opendatasets) (8.0.4)\n",
      "Requirement already satisfied: urllib3 in /usr/local/lib/python3.11/dist-packages (from kaggle->opendatasets) (2.3.0)\n",
      "Requirement already satisfied: bleach in /usr/local/lib/python3.11/dist-packages (from kaggle->opendatasets) (6.2.0)\n",
      "Requirement already satisfied: webencodings in /usr/local/lib/python3.11/dist-packages (from bleach->kaggle->opendatasets) (0.5.1)\n",
      "Requirement already satisfied: text-unidecode>=1.3 in /usr/local/lib/python3.11/dist-packages (from python-slugify->kaggle->opendatasets) (1.3)\n",
      "Requirement already satisfied: charset-normalizer<4,>=2 in /usr/local/lib/python3.11/dist-packages (from requests->kaggle->opendatasets) (3.4.1)\n",
      "Requirement already satisfied: idna<4,>=2.5 in /usr/local/lib/python3.11/dist-packages (from requests->kaggle->opendatasets) (3.10)\n"
     ]
    }
   ],
   "source": [
    "!pip install opendatasets\n",
    "\n",
    "\n",
    "\n",
    "\n",
    "import opendatasets as od\n",
    "import pandas as pd\n",
    "import numpy as np\n",
    "import tensorflow as tf\n",
    "import matplotlib.pyplot as plt\n",
    "from tensorflow.keras.models import Sequential\n",
    "from tensorflow.keras.layers import Embedding, SimpleRNN, Dense\n",
    "from tensorflow.keras.callbacks import EarlyStopping\n",
    "from tensorflow.keras.layers import LSTM\n",
    "from sklearn.model_selection import train_test_split\n",
    "from tensorflow.keras.preprocessing.text import Tokenizer\n",
    "from tensorflow.keras.preprocessing.sequence import pad_sequences"
   ]
  },
  {
   "cell_type": "markdown",
   "metadata": {
    "id": "tK4JDdckRzqa"
   },
   "source": [
    "# **Downloading Dataset From Kaggle && Make Pre-Processing on it**"
   ]
  },
  {
   "cell_type": "code",
   "execution_count": 2,
   "metadata": {
    "colab": {
     "base_uri": "https://localhost:8080/"
    },
    "executionInfo": {
     "elapsed": 35,
     "status": "ok",
     "timestamp": 1742426445456,
     "user": {
      "displayName": "Abdelwahed Ragab",
      "userId": "16581433264313502329"
     },
     "user_tz": -120
    },
    "id": "zKhJV0UGUwtg",
    "outputId": "748d54dd-748d-40db-b002-bdc1964bcd60"
   },
   "outputs": [
    {
     "name": "stdout",
     "output_type": "stream",
     "text": [
      "Skipping, found downloaded files in \"./imdb-dataset-of-50k-movie-reviews\" (use force=True to force download)\n"
     ]
    }
   ],
   "source": [
    "# Download the IMDB dataset using its Kaggle URL\n",
    "dataset_url = \"https://www.kaggle.com/datasets/lakshmi25npathi/imdb-dataset-of-50k-movie-reviews\"\n",
    "od.download(dataset_url)"
   ]
  },
  {
   "cell_type": "code",
   "execution_count": 3,
   "metadata": {
    "colab": {
     "base_uri": "https://localhost:8080/"
    },
    "executionInfo": {
     "elapsed": 1213,
     "status": "ok",
     "timestamp": 1742426446671,
     "user": {
      "displayName": "Abdelwahed Ragab",
      "userId": "16581433264313502329"
     },
     "user_tz": -120
    },
    "id": "dLzBF981UzI8",
    "outputId": "5f16ee83-64e7-4ea0-abb5-1807980d32ce"
   },
   "outputs": [
    {
     "name": "stdout",
     "output_type": "stream",
     "text": [
      "Total Reviews: 50000\n",
      "Training Reviews: 40000, Testing Reviews: 10000\n"
     ]
    }
   ],
   "source": [
    "# Load dataset\n",
    "df = pd.read_csv(\"./imdb-dataset-of-50k-movie-reviews/IMDB Dataset.csv\")\n",
    "\n",
    "# Convert sentiment labels to numerical values (0 = Negative, 1 = Positive)\n",
    "df['sentiment'] = df['sentiment'].map({'positive': 1, 'negative': 0})\n",
    "\n",
    "reviews = df['review'].values\n",
    "labels = df['sentiment'].values\n",
    "\n",
    "train_reviews, test_reviews, train_labels, test_labels = train_test_split(reviews, labels, test_size=0.2, random_state=42)\n",
    "\n",
    "print(f\"Total Reviews: {len(reviews)}\")\n",
    "print(f\"Training Reviews: {len(train_reviews)}, Testing Reviews: {len(test_reviews)}\")"
   ]
  },
  {
   "cell_type": "markdown",
   "metadata": {
    "id": "tsIEcoqhpYz0"
   },
   "source": [
    "# **Pad Sequence && Tokenizer**"
   ]
  },
  {
   "cell_type": "code",
   "execution_count": 4,
   "metadata": {
    "colab": {
     "base_uri": "https://localhost:8080/"
    },
    "executionInfo": {
     "elapsed": 24373,
     "status": "ok",
     "timestamp": 1742426471042,
     "user": {
      "displayName": "Abdelwahed Ragab",
      "userId": "16581433264313502329"
     },
     "user_tz": -120
    },
    "id": "7px5VAxTSWb5",
    "outputId": "1facba8e-7d7b-493d-dcfa-13ba248879f6"
   },
   "outputs": [
    {
     "name": "stdout",
     "output_type": "stream",
     "text": [
      "Original Review: That's what I kept asking myself during the many fights, screaming matches, swearing and general mayhem that permeate the 84 minutes. The comparisons also stand up when you think of the one-dimensional characters, who have so little depth that it is virtually impossible to care what happens to them. They are just badly written cyphers for the director to hang his multicultural beliefs on, a topic that has been done much better in other dramas both on TV and the cinema.<br /><br />I must confess, I'm not really one for spotting bad performances during a film, but it must be said that Nichola Burley (as the heroine's slutty best friend) and Wasim Zakir (as the nasty, bullying brother) were absolutely terrible. I don't know what acting school they graduated from, but if I was them I'd apply for a full refund post haste. Only Samina Awan in the lead role manages to impress in a cast of so-called British talent that we'll probably never hear from again. At least, that's the hope. Next time, hire a different scout.<br /><br />Another intriguing thought is the hideously fashionable soundtrack featuring the likes of Snow Patrol, Ian Brown and Keane. Now, I'm a bit of a music fan and I'm familiar with most of these artists output, but I didn't recognise any of the tracks during this movie (apart from the omnipresent \"Run\"). B-sides, anyone? We get many, many musical montages which telegraph how we're suppose to feel. These are accompanied by such startlingly original images as couples kissing by a swollen lake and canoodling in doorways. This is a problem, as none of the songs convey the mood efficiently, and we realise the director lacks the ability to carry the emotional journey to the audience through storytelling and dialogue alone.<br /><br />The ending is presumably meant to be just desserts, as everybody gets their comeuppance and there is at least one big shock in store.. But I remained resolutely unmoved because the script had given me no-one to root for. It's not enough to tackle a hot-button issue, you have to actually give us a plot that hasn't already been done to death and individuals who are more than window dressing. As it stands, this film is a noble failure, with only the promising lead actress and a few mildly diverting punch-ups to save it from the bin. 4/10. Must try harder..\n",
      "Tokenized Sequence: [198, 49, 11, 802, 2161, 535, 303, 2, 108, 1908, 2039, 4325, 6551, 3, 816, 4845, 13, 1, 2, 13694, 228, 2, 6191, 80, 783, 54, 53, 23, 102, 5, 2, 28, 2010, 103, 37, 26, 35, 120, 1131, 13, 10, 7, 2367, 1191, 6, 455, 49, 553, 6, 93, 34, 24, 40, 917, 401, 1, 16, 2, 167, 6, 2994, 25, 1, 4360, 21, 4, 2946, 13, 46, 76, 222, 74, 127, 9, 82, 3156, 196, 21, 240, 3, 2, 448, 8, 8, 11, 206, 4983, 145, 22, 64, 28, 16, 14645, 75, 366, 303, 4, 20, 19, 10, 206, 27, 308, 13, 1, 1, 15, 2, 14999, 10162, 116, 440, 3, 1, 1, 15, 2, 1705, 11317, 616, 71, 425, 382, 11, 90, 119, 49, 113, 371, 34, 11930, 36, 19, 44, 11, 14, 93, 486, 6831, 16, 4, 365, 12381, 1183, 1, 62, 1, 1, 9, 2, 471, 217, 1015, 6, 4161, 9, 4, 175, 5, 35, 441, 698, 624, 13, 3749, 238, 112, 849, 36, 171, 31, 220, 198, 2, 429, 368, 56, 3766, 4, 279, 10621, 8, 8, 158, 1708, 188, 7, 2, 11697, 11506, 728, 1936, 2, 1201, 5, 2947, 11507, 3750, 1829, 3, 1, 148, 145, 4, 229, 5, 4, 208, 324, 3, 145, 1084, 17, 89, 5, 133, 2872, 8744, 19, 11, 154, 9254, 100, 5, 2, 4021, 303, 12, 18, 1002, 36, 2, 17119, 497, 493, 2620, 250, 72, 78, 108, 108, 699, 10015, 61, 13111, 87, 1048, 1364, 6, 230, 133, 24, 4361, 32, 139, 18120, 210, 1155, 15, 4502, 5314, 32, 4, 1, 2387, 3, 1, 9, 1, 12, 7, 4, 446, 15, 625, 5, 2, 719, 2960, 2, 1279, 16654, 3, 72, 3617, 2, 167, 1508, 2, 1246, 6, 1630, 2, 880, 1269, 6, 2, 311, 141, 2895, 3, 411, 634, 8, 8, 2, 270, 7, 3554, 1001, 6, 27, 40, 13695, 15, 1382, 218, 66, 18121, 3, 47, 7, 31, 220, 28, 194, 1485, 9, 1102, 19, 11, 4906, 1, 1, 85, 2, 227, 67, 357, 69, 55, 28, 6, 3601, 16, 45, 22, 193, 6, 8256, 4, 890, 3512, 1759, 23, 26, 6, 159, 197, 176, 4, 111, 13, 1653, 472, 76, 222, 6, 326, 3, 3513, 37, 24, 51, 73, 1890, 4730, 15, 10, 1394, 12, 20, 7, 4, 3555, 2030, 17, 62, 2, 2437, 471, 533, 3, 4, 172, 2578, 18122, 2762, 1779, 6, 586, 10, 36, 2, 3798, 451, 156, 206, 352, 3857]\n",
      "Padded Sequence: [  198    49    11   802  2161   535   303     2   108  1908  2039  4325\n",
      "  6551     3   816  4845    13     1     2 13694   228     2  6191    80\n",
      "   783    54    53    23   102     5     2    28  2010   103    37    26\n",
      "    35   120  1131    13    10     7  2367  1191     6   455    49   553\n",
      "     6    93    34    24    40   917   401     1    16     2   167     6\n",
      "  2994    25     1  4360    21     4  2946    13    46    76   222    74\n",
      "   127     9    82  3156   196    21   240     3     2   448     8     8\n",
      "    11   206  4983   145    22    64    28    16 14645    75   366   303\n",
      "     4    20    19    10   206    27   308    13     1     1    15     2\n",
      " 14999 10162   116   440     3     1     1    15     2  1705 11317   616\n",
      "    71   425   382    11    90   119    49   113   371    34 11930    36\n",
      "    19    44    11    14    93   486  6831    16     4   365 12381  1183\n",
      "     1    62     1     1     9     2   471   217  1015     6  4161     9\n",
      "     4   175     5    35   441   698   624    13  3749   238   112   849\n",
      "    36   171    31   220   198     2   429   368    56  3766     4   279\n",
      " 10621     8     8   158  1708   188     7     2 11697 11506   728  1936\n",
      "     2  1201     5  2947 11507  3750  1829     3]\n",
      "Training data shape: (40000, 200), Labels: (40000,)\n",
      "Test data shape: (10000, 200), Labels: (10000,)\n"
     ]
    }
   ],
   "source": [
    "vocab_size = 20000  # Number of unique words\n",
    "max_length = 200  # Maximum sequence length\n",
    "oov_token = \"<OOV>\"  # Out of vocabulary token\n",
    "\n",
    "tokenizer = Tokenizer(num_words=vocab_size, oov_token=oov_token)\n",
    "tokenizer.fit_on_texts(train_reviews)\n",
    "\n",
    "# Convert text to sequences\n",
    "train_sequences = tokenizer.texts_to_sequences(train_reviews)\n",
    "test_sequences = tokenizer.texts_to_sequences(test_reviews)\n",
    "\n",
    "# Pad sequences to ensure uniform length\n",
    "train_padded = pad_sequences(train_sequences, maxlen=max_length, padding='post', truncating='post')\n",
    "test_padded = pad_sequences(test_sequences, maxlen=max_length, padding='post', truncating='post')\n",
    "\n",
    "train_labels = np.array(train_labels)\n",
    "test_labels = np.array(test_labels)\n",
    "\n",
    "print(f\"Original Review: {train_reviews[0]}\")\n",
    "print(f\"Tokenized Sequence: {train_sequences[0]}\")\n",
    "print(f\"Padded Sequence: {train_padded[0]}\")\n",
    "print(f\"Training data shape: {train_padded.shape}, Labels: {train_labels.shape}\")\n",
    "print(f\"Test data shape: {test_padded.shape}, Labels: {test_labels.shape}\")"
   ]
  },
  {
   "cell_type": "markdown",
   "metadata": {
    "id": "gysude54pgkm"
   },
   "source": [
    "# **Build the RNN model (using LSTM)**"
   ]
  },
  {
   "cell_type": "code",
   "execution_count": 5,
   "metadata": {
    "colab": {
     "base_uri": "https://localhost:8080/",
     "height": 324
    },
    "executionInfo": {
     "elapsed": 96,
     "status": "ok",
     "timestamp": 1742426471135,
     "user": {
      "displayName": "Abdelwahed Ragab",
      "userId": "16581433264313502329"
     },
     "user_tz": -120
    },
    "id": "_FcMzbdsSYCf",
    "outputId": "b09ff1a3-af64-466c-89c4-1ae7e72569bf"
   },
   "outputs": [
    {
     "name": "stderr",
     "output_type": "stream",
     "text": [
      "/usr/local/lib/python3.11/dist-packages/keras/src/layers/core/embedding.py:90: UserWarning: Argument `input_length` is deprecated. Just remove it.\n",
      "  warnings.warn(\n"
     ]
    },
    {
     "data": {
      "text/html": [
       "<pre style=\"white-space:pre;overflow-x:auto;line-height:normal;font-family:Menlo,'DejaVu Sans Mono',consolas,'Courier New',monospace\"><span style=\"font-weight: bold\">Model: \"sequential\"</span>\n",
       "</pre>\n"
      ],
      "text/plain": [
       "\u001b[1mModel: \"sequential\"\u001b[0m\n"
      ]
     },
     "metadata": {},
     "output_type": "display_data"
    },
    {
     "data": {
      "text/html": [
       "<pre style=\"white-space:pre;overflow-x:auto;line-height:normal;font-family:Menlo,'DejaVu Sans Mono',consolas,'Courier New',monospace\">┏━━━━━━━━━━━━━━━━━━━━━━━━━━━━━━━━━━━━━━┳━━━━━━━━━━━━━━━━━━━━━━━━━━━━━┳━━━━━━━━━━━━━━━━━┓\n",
       "┃<span style=\"font-weight: bold\"> Layer (type)                         </span>┃<span style=\"font-weight: bold\"> Output Shape                </span>┃<span style=\"font-weight: bold\">         Param # </span>┃\n",
       "┡━━━━━━━━━━━━━━━━━━━━━━━━━━━━━━━━━━━━━━╇━━━━━━━━━━━━━━━━━━━━━━━━━━━━━╇━━━━━━━━━━━━━━━━━┩\n",
       "│ embedding (<span style=\"color: #0087ff; text-decoration-color: #0087ff\">Embedding</span>)                │ ?                           │     <span style=\"color: #00af00; text-decoration-color: #00af00\">0</span> (unbuilt) │\n",
       "├──────────────────────────────────────┼─────────────────────────────┼─────────────────┤\n",
       "│ lstm (<span style=\"color: #0087ff; text-decoration-color: #0087ff\">LSTM</span>)                          │ ?                           │     <span style=\"color: #00af00; text-decoration-color: #00af00\">0</span> (unbuilt) │\n",
       "├──────────────────────────────────────┼─────────────────────────────┼─────────────────┤\n",
       "│ lstm_1 (<span style=\"color: #0087ff; text-decoration-color: #0087ff\">LSTM</span>)                        │ ?                           │     <span style=\"color: #00af00; text-decoration-color: #00af00\">0</span> (unbuilt) │\n",
       "├──────────────────────────────────────┼─────────────────────────────┼─────────────────┤\n",
       "│ dense (<span style=\"color: #0087ff; text-decoration-color: #0087ff\">Dense</span>)                        │ ?                           │     <span style=\"color: #00af00; text-decoration-color: #00af00\">0</span> (unbuilt) │\n",
       "├──────────────────────────────────────┼─────────────────────────────┼─────────────────┤\n",
       "│ dense_1 (<span style=\"color: #0087ff; text-decoration-color: #0087ff\">Dense</span>)                      │ ?                           │     <span style=\"color: #00af00; text-decoration-color: #00af00\">0</span> (unbuilt) │\n",
       "└──────────────────────────────────────┴─────────────────────────────┴─────────────────┘\n",
       "</pre>\n"
      ],
      "text/plain": [
       "┏━━━━━━━━━━━━━━━━━━━━━━━━━━━━━━━━━━━━━━┳━━━━━━━━━━━━━━━━━━━━━━━━━━━━━┳━━━━━━━━━━━━━━━━━┓\n",
       "┃\u001b[1m \u001b[0m\u001b[1mLayer (type)                        \u001b[0m\u001b[1m \u001b[0m┃\u001b[1m \u001b[0m\u001b[1mOutput Shape               \u001b[0m\u001b[1m \u001b[0m┃\u001b[1m \u001b[0m\u001b[1m        Param #\u001b[0m\u001b[1m \u001b[0m┃\n",
       "┡━━━━━━━━━━━━━━━━━━━━━━━━━━━━━━━━━━━━━━╇━━━━━━━━━━━━━━━━━━━━━━━━━━━━━╇━━━━━━━━━━━━━━━━━┩\n",
       "│ embedding (\u001b[38;5;33mEmbedding\u001b[0m)                │ ?                           │     \u001b[38;5;34m0\u001b[0m (unbuilt) │\n",
       "├──────────────────────────────────────┼─────────────────────────────┼─────────────────┤\n",
       "│ lstm (\u001b[38;5;33mLSTM\u001b[0m)                          │ ?                           │     \u001b[38;5;34m0\u001b[0m (unbuilt) │\n",
       "├──────────────────────────────────────┼─────────────────────────────┼─────────────────┤\n",
       "│ lstm_1 (\u001b[38;5;33mLSTM\u001b[0m)                        │ ?                           │     \u001b[38;5;34m0\u001b[0m (unbuilt) │\n",
       "├──────────────────────────────────────┼─────────────────────────────┼─────────────────┤\n",
       "│ dense (\u001b[38;5;33mDense\u001b[0m)                        │ ?                           │     \u001b[38;5;34m0\u001b[0m (unbuilt) │\n",
       "├──────────────────────────────────────┼─────────────────────────────┼─────────────────┤\n",
       "│ dense_1 (\u001b[38;5;33mDense\u001b[0m)                      │ ?                           │     \u001b[38;5;34m0\u001b[0m (unbuilt) │\n",
       "└──────────────────────────────────────┴─────────────────────────────┴─────────────────┘\n"
      ]
     },
     "metadata": {},
     "output_type": "display_data"
    },
    {
     "data": {
      "text/html": [
       "<pre style=\"white-space:pre;overflow-x:auto;line-height:normal;font-family:Menlo,'DejaVu Sans Mono',consolas,'Courier New',monospace\"><span style=\"font-weight: bold\"> Total params: </span><span style=\"color: #00af00; text-decoration-color: #00af00\">0</span> (0.00 B)\n",
       "</pre>\n"
      ],
      "text/plain": [
       "\u001b[1m Total params: \u001b[0m\u001b[38;5;34m0\u001b[0m (0.00 B)\n"
      ]
     },
     "metadata": {},
     "output_type": "display_data"
    },
    {
     "data": {
      "text/html": [
       "<pre style=\"white-space:pre;overflow-x:auto;line-height:normal;font-family:Menlo,'DejaVu Sans Mono',consolas,'Courier New',monospace\"><span style=\"font-weight: bold\"> Trainable params: </span><span style=\"color: #00af00; text-decoration-color: #00af00\">0</span> (0.00 B)\n",
       "</pre>\n"
      ],
      "text/plain": [
       "\u001b[1m Trainable params: \u001b[0m\u001b[38;5;34m0\u001b[0m (0.00 B)\n"
      ]
     },
     "metadata": {},
     "output_type": "display_data"
    },
    {
     "data": {
      "text/html": [
       "<pre style=\"white-space:pre;overflow-x:auto;line-height:normal;font-family:Menlo,'DejaVu Sans Mono',consolas,'Courier New',monospace\"><span style=\"font-weight: bold\"> Non-trainable params: </span><span style=\"color: #00af00; text-decoration-color: #00af00\">0</span> (0.00 B)\n",
       "</pre>\n"
      ],
      "text/plain": [
       "\u001b[1m Non-trainable params: \u001b[0m\u001b[38;5;34m0\u001b[0m (0.00 B)\n"
      ]
     },
     "metadata": {},
     "output_type": "display_data"
    }
   ],
   "source": [
    "embedding_dim = 64\n",
    "rnn_units = 64\n",
    "\n",
    "# Define LSTM Model\n",
    "model= Sequential([\n",
    "    Embedding(vocab_size, embedding_dim, input_length=max_length),  # Word embeddings\n",
    "    LSTM(rnn_units, return_sequences=True),\n",
    "    LSTM(rnn_units),\n",
    "    Dense(32, activation='relu'),\n",
    "    Dense(1, activation='sigmoid')  # Output layer (binary classification)\n",
    "])\n",
    "\n",
    "\n",
    "model.compile(loss='binary_crossentropy', optimizer='adam', metrics=['accuracy'])\n",
    "\n",
    "model.summary()\n"
   ]
  },
  {
   "cell_type": "code",
   "execution_count": 6,
   "metadata": {
    "colab": {
     "base_uri": "https://localhost:8080/"
    },
    "executionInfo": {
     "elapsed": 1180088,
     "status": "ok",
     "timestamp": 1742427651232,
     "user": {
      "displayName": "Abdelwahed Ragab",
      "userId": "16581433264313502329"
     },
     "user_tz": -120
    },
    "id": "mah75XlSSZ8G",
    "outputId": "13200aa5-10a4-4e2e-fce1-8835c4020ad8"
   },
   "outputs": [
    {
     "name": "stdout",
     "output_type": "stream",
     "text": [
      "Epoch 1/50\n",
      "\u001b[1m625/625\u001b[0m \u001b[32m━━━━━━━━━━━━━━━━━━━━\u001b[0m\u001b[37m\u001b[0m \u001b[1m182s\u001b[0m 284ms/step - accuracy: 0.5359 - loss: 0.6851 - val_accuracy: 0.5039 - val_loss: 0.6939\n",
      "Epoch 2/50\n",
      "\u001b[1m625/625\u001b[0m \u001b[32m━━━━━━━━━━━━━━━━━━━━\u001b[0m\u001b[37m\u001b[0m \u001b[1m201s\u001b[0m 282ms/step - accuracy: 0.5718 - loss: 0.6681 - val_accuracy: 0.8122 - val_loss: 0.4510\n",
      "Epoch 3/50\n",
      "\u001b[1m625/625\u001b[0m \u001b[32m━━━━━━━━━━━━━━━━━━━━\u001b[0m\u001b[37m\u001b[0m \u001b[1m199s\u001b[0m 278ms/step - accuracy: 0.8527 - loss: 0.3663 - val_accuracy: 0.8684 - val_loss: 0.3096\n",
      "Epoch 4/50\n",
      "\u001b[1m625/625\u001b[0m \u001b[32m━━━━━━━━━━━━━━━━━━━━\u001b[0m\u001b[37m\u001b[0m \u001b[1m201s\u001b[0m 277ms/step - accuracy: 0.9208 - loss: 0.2153 - val_accuracy: 0.8838 - val_loss: 0.2886\n",
      "Epoch 5/50\n",
      "\u001b[1m625/625\u001b[0m \u001b[32m━━━━━━━━━━━━━━━━━━━━\u001b[0m\u001b[37m\u001b[0m \u001b[1m203s\u001b[0m 279ms/step - accuracy: 0.9521 - loss: 0.1421 - val_accuracy: 0.8822 - val_loss: 0.3001\n",
      "Epoch 6/50\n",
      "\u001b[1m625/625\u001b[0m \u001b[32m━━━━━━━━━━━━━━━━━━━━\u001b[0m\u001b[37m\u001b[0m \u001b[1m193s\u001b[0m 265ms/step - accuracy: 0.9718 - loss: 0.0921 - val_accuracy: 0.8754 - val_loss: 0.3900\n"
     ]
    }
   ],
   "source": [
    "# Early stopping to prevent overfitting\n",
    "early_stop = EarlyStopping(monitor='val_loss', patience=2, restore_best_weights=True)\n",
    "\n",
    "history = model.fit(\n",
    "    train_padded, train_labels,\n",
    "    epochs=50,\n",
    "    batch_size=64,\n",
    "    validation_data=(test_padded, test_labels),\n",
    "    callbacks=[early_stop]\n",
    ")\n"
   ]
  },
  {
   "cell_type": "code",
   "execution_count": 7,
   "metadata": {
    "colab": {
     "base_uri": "https://localhost:8080/",
     "height": 501
    },
    "executionInfo": {
     "elapsed": 17941,
     "status": "ok",
     "timestamp": 1742427669177,
     "user": {
      "displayName": "Abdelwahed Ragab",
      "userId": "16581433264313502329"
     },
     "user_tz": -120
    },
    "id": "7hiGsBimSe_p",
    "outputId": "e3c7f439-fd78-4107-a257-b905b6a93d45"
   },
   "outputs": [
    {
     "name": "stdout",
     "output_type": "stream",
     "text": [
      "\u001b[1m313/313\u001b[0m \u001b[32m━━━━━━━━━━━━━━━━━━━━\u001b[0m\u001b[37m\u001b[0m \u001b[1m18s\u001b[0m 57ms/step - accuracy: 0.8873 - loss: 0.2832\n",
      "\n",
      "Test Accuracy: 0.8838\n"
     ]
    },
    {
     "data": {
      "image/png": "[encoded data removed]",
      "text/plain": [
       "<Figure size 640x480 with 1 Axes>"
      ]
     },
     "metadata": {},
     "output_type": "display_data"
    }
   ],
   "source": [
    "test_loss, test_acc = model.evaluate(test_padded, test_labels)\n",
    "print(f\"\\nTest Accuracy: {test_acc:.4f}\")\n",
    "\n",
    "plt.plot(history.history['accuracy'], label='Train Accuracy')\n",
    "plt.plot(history.history['val_accuracy'], label='Validation Accuracy')\n",
    "plt.xlabel('Epoch')\n",
    "plt.ylabel('Accuracy')\n",
    "plt.legend()\n",
    "plt.show()\n"
   ]
  },
  {
   "cell_type": "code",
   "execution_count": 8,
   "metadata": {
    "colab": {
     "base_uri": "https://localhost:8080/",
     "height": 472
    },
    "executionInfo": {
     "elapsed": 146,
     "status": "ok",
     "timestamp": 1742427669327,
     "user": {
      "displayName": "Abdelwahed Ragab",
      "userId": "16581433264313502329"
     },
     "user_tz": -120
    },
    "id": "bFy8ezLCTF37",
    "outputId": "a9ff52f6-0b8d-4678-8b7a-530cad828f4f"
   },
   "outputs": [
    {
     "data": {
      "image/png": "[encoded data removed]",
      "text/plain": [
       "<Figure size 640x480 with 1 Axes>"
      ]
     },
     "metadata": {},
     "output_type": "display_data"
    }
   ],
   "source": [
    "plt.plot(history.history['loss'], label='Train Loss')\n",
    "plt.plot(history.history['val_loss'], label='Validation Loss')\n",
    "plt.xlabel('Epoch')\n",
    "plt.ylabel('Loss')\n",
    "plt.legend()\n",
    "plt.title(\"Training and Validation Loss\")\n",
    "plt.show()\n"
   ]
  },
  {
   "cell_type": "markdown",
   "metadata": {
    "id": "Si_nPhKbpySz"
   },
   "source": [
    "# **Sentiment Analysis on IMDB Movie Reviews Using LSTM**"
   ]
  },
  {
   "cell_type": "code",
   "execution_count": 10,
   "metadata": {
    "colab": {
     "base_uri": "https://localhost:8080/"
    },
    "executionInfo": {
     "elapsed": 2017,
     "status": "ok",
     "timestamp": 1742428148680,
     "user": {
      "displayName": "Abdelwahed Ragab",
      "userId": "16581433264313502329"
     },
     "user_tz": -120
    },
    "id": "v8Wig_MuSq_a",
    "outputId": "201bbca8-0af8-4b20-a643-2f6434ae7b71"
   },
   "outputs": [
    {
     "name": "stdout",
     "output_type": "stream",
     "text": [
      "\u001b[1m1/1\u001b[0m \u001b[32m━━━━━━━━━━━━━━━━━━━━\u001b[0m\u001b[37m\u001b[0m \u001b[1m1s\u001b[0m 803ms/step\n",
      "\n",
      "Review: This movie was absolutely fantastic! I loved it.\n",
      "Sentiment: Positive 😀\n",
      "\u001b[1m1/1\u001b[0m \u001b[32m━━━━━━━━━━━━━━━━━━━━\u001b[0m\u001b[37m\u001b[0m \u001b[1m0s\u001b[0m 188ms/step\n",
      "\n",
      "Review: Worst movie ever. Completely disappointed.\n",
      "Sentiment: Negative 😞\n"
     ]
    }
   ],
   "source": [
    "# Function to preprocess custom text\n",
    "def encode_text(text):\n",
    "    words = text.lower().split()\n",
    "    encoded = [tokenizer.word_index.get(word, 1) for word in words]\n",
    "    padded = pad_sequences([encoded], maxlen=max_length, padding='post', truncating='post')\n",
    "    return padded\n",
    "\n",
    "def predict_sentiment(text):\n",
    "    processed_text = encode_text(text)\n",
    "    prediction = model.predict(processed_text)[0][0]  # Get probability\n",
    "    sentiment = \"Positive 😀\" if prediction > 0.5 else \"Negative 😞\"\n",
    "    print(f\"\\nReview: {text}\")\n",
    "    print(f\"Sentiment: {sentiment}\")\n",
    "\n",
    "predict_sentiment(\"This movie was absolutely fantastic! I loved it.\")\n",
    "predict_sentiment(\"Worst movie ever. Completely disappointed.\")\n"
   ]
  },
  {
   "cell_type": "code",
   "execution_count": 11,
   "metadata": {
    "colab": {
     "base_uri": "https://localhost:8080/"
    },
    "executionInfo": {
     "elapsed": 14008,
     "status": "ok",
     "timestamp": 1742428166807,
     "user": {
      "displayName": "Abdelwahed Ragab",
      "userId": "16581433264313502329"
     },
     "user_tz": -120
    },
    "id": "Th2jgz2AbbMt",
    "outputId": "fad35fb3-3082-43ba-a6d4-86ac4ba81a82"
   },
   "outputs": [
    {
     "name": "stdout",
     "output_type": "stream",
     "text": [
      "Enter a movie review: The worst movie I have ever watched. Waste of time!\n",
      "\u001b[1m1/1\u001b[0m \u001b[32m━━━━━━━━━━━━━━━━━━━━\u001b[0m\u001b[37m\u001b[0m \u001b[1m0s\u001b[0m 53ms/step\n",
      "\n",
      "Review: The worst movie I have ever watched. Waste of time!\n",
      "Sentiment: Negative 😞\n"
     ]
    }
   ],
   "source": [
    "user_review = input(\"Enter a movie review: \")\n",
    "predict_sentiment(user_review)"
   ]
  },
  {
   "cell_type": "code",
   "execution_count": 12,
   "metadata": {
    "colab": {
     "base_uri": "https://localhost:8080/"
    },
    "executionInfo": {
     "elapsed": 168,
     "status": "ok",
     "timestamp": 1742428171361,
     "user": {
      "displayName": "Abdelwahed Ragab",
      "userId": "16581433264313502329"
     },
     "user_tz": -120
    },
    "id": "pfCyimiiblqx",
    "outputId": "5c2b370f-4324-41d9-92d8-40225d367234"
   },
   "outputs": [
    {
     "name": "stdout",
     "output_type": "stream",
     "text": [
      "\u001b[1m1/1\u001b[0m \u001b[32m━━━━━━━━━━━━━━━━━━━━\u001b[0m\u001b[37m\u001b[0m \u001b[1m0s\u001b[0m 50ms/step\n",
      "\n",
      "Review: Nothing about this movie worked. The pacing was slow, the jokes were unfunny, and the acting felt forced.\n",
      "Sentiment: Negative 😞\n"
     ]
    }
   ],
   "source": [
    "predict_sentiment(\"Nothing about this movie worked. The pacing was slow, the jokes were unfunny, and the acting felt forced.\")"
   ]
  },
  {
   "cell_type": "markdown",
   "metadata": {
    "id": "PhvjEcka47Uw"
   },
   "source": [
    "# **Build the RNN model (using SIMPLE RNN)**"
   ]
  },
  {
   "cell_type": "code",
   "execution_count": 13,
   "metadata": {
    "colab": {
     "base_uri": "https://localhost:8080/",
     "height": 260
    },
    "executionInfo": {
     "elapsed": 48,
     "status": "ok",
     "timestamp": 1742428224819,
     "user": {
      "displayName": "Abdelwahed Ragab",
      "userId": "16581433264313502329"
     },
     "user_tz": -120
    },
    "id": "cZ4u_RkCz-rK",
    "outputId": "7d8ea0c1-85e4-4c74-8748-17de50b0d2fa"
   },
   "outputs": [
    {
     "name": "stderr",
     "output_type": "stream",
     "text": [
      "/usr/local/lib/python3.11/dist-packages/keras/src/layers/core/embedding.py:90: UserWarning: Argument `input_length` is deprecated. Just remove it.\n",
      "  warnings.warn(\n"
     ]
    },
    {
     "data": {
      "text/html": [
       "<pre style=\"white-space:pre;overflow-x:auto;line-height:normal;font-family:Menlo,'DejaVu Sans Mono',consolas,'Courier New',monospace\"><span style=\"font-weight: bold\">Model: \"sequential_1\"</span>\n",
       "</pre>\n"
      ],
      "text/plain": [
       "\u001b[1mModel: \"sequential_1\"\u001b[0m\n"
      ]
     },
     "metadata": {},
     "output_type": "display_data"
    },
    {
     "data": {
      "text/html": [
       "<pre style=\"white-space:pre;overflow-x:auto;line-height:normal;font-family:Menlo,'DejaVu Sans Mono',consolas,'Courier New',monospace\">┏━━━━━━━━━━━━━━━━━━━━━━━━━━━━━━━━━━━━━━┳━━━━━━━━━━━━━━━━━━━━━━━━━━━━━┳━━━━━━━━━━━━━━━━━┓\n",
       "┃<span style=\"font-weight: bold\"> Layer (type)                         </span>┃<span style=\"font-weight: bold\"> Output Shape                </span>┃<span style=\"font-weight: bold\">         Param # </span>┃\n",
       "┡━━━━━━━━━━━━━━━━━━━━━━━━━━━━━━━━━━━━━━╇━━━━━━━━━━━━━━━━━━━━━━━━━━━━━╇━━━━━━━━━━━━━━━━━┩\n",
       "│ embedding_1 (<span style=\"color: #0087ff; text-decoration-color: #0087ff\">Embedding</span>)              │ ?                           │     <span style=\"color: #00af00; text-decoration-color: #00af00\">0</span> (unbuilt) │\n",
       "├──────────────────────────────────────┼─────────────────────────────┼─────────────────┤\n",
       "│ simple_rnn (<span style=\"color: #0087ff; text-decoration-color: #0087ff\">SimpleRNN</span>)               │ ?                           │     <span style=\"color: #00af00; text-decoration-color: #00af00\">0</span> (unbuilt) │\n",
       "├──────────────────────────────────────┼─────────────────────────────┼─────────────────┤\n",
       "│ dense_2 (<span style=\"color: #0087ff; text-decoration-color: #0087ff\">Dense</span>)                      │ ?                           │     <span style=\"color: #00af00; text-decoration-color: #00af00\">0</span> (unbuilt) │\n",
       "└──────────────────────────────────────┴─────────────────────────────┴─────────────────┘\n",
       "</pre>\n"
      ],
      "text/plain": [
       "┏━━━━━━━━━━━━━━━━━━━━━━━━━━━━━━━━━━━━━━┳━━━━━━━━━━━━━━━━━━━━━━━━━━━━━┳━━━━━━━━━━━━━━━━━┓\n",
       "┃\u001b[1m \u001b[0m\u001b[1mLayer (type)                        \u001b[0m\u001b[1m \u001b[0m┃\u001b[1m \u001b[0m\u001b[1mOutput Shape               \u001b[0m\u001b[1m \u001b[0m┃\u001b[1m \u001b[0m\u001b[1m        Param #\u001b[0m\u001b[1m \u001b[0m┃\n",
       "┡━━━━━━━━━━━━━━━━━━━━━━━━━━━━━━━━━━━━━━╇━━━━━━━━━━━━━━━━━━━━━━━━━━━━━╇━━━━━━━━━━━━━━━━━┩\n",
       "│ embedding_1 (\u001b[38;5;33mEmbedding\u001b[0m)              │ ?                           │     \u001b[38;5;34m0\u001b[0m (unbuilt) │\n",
       "├──────────────────────────────────────┼─────────────────────────────┼─────────────────┤\n",
       "│ simple_rnn (\u001b[38;5;33mSimpleRNN\u001b[0m)               │ ?                           │     \u001b[38;5;34m0\u001b[0m (unbuilt) │\n",
       "├──────────────────────────────────────┼─────────────────────────────┼─────────────────┤\n",
       "│ dense_2 (\u001b[38;5;33mDense\u001b[0m)                      │ ?                           │     \u001b[38;5;34m0\u001b[0m (unbuilt) │\n",
       "└──────────────────────────────────────┴─────────────────────────────┴─────────────────┘\n"
      ]
     },
     "metadata": {},
     "output_type": "display_data"
    },
    {
     "data": {
      "text/html": [
       "<pre style=\"white-space:pre;overflow-x:auto;line-height:normal;font-family:Menlo,'DejaVu Sans Mono',consolas,'Courier New',monospace\"><span style=\"font-weight: bold\"> Total params: </span><span style=\"color: #00af00; text-decoration-color: #00af00\">0</span> (0.00 B)\n",
       "</pre>\n"
      ],
      "text/plain": [
       "\u001b[1m Total params: \u001b[0m\u001b[38;5;34m0\u001b[0m (0.00 B)\n"
      ]
     },
     "metadata": {},
     "output_type": "display_data"
    },
    {
     "data": {
      "text/html": [
       "<pre style=\"white-space:pre;overflow-x:auto;line-height:normal;font-family:Menlo,'DejaVu Sans Mono',consolas,'Courier New',monospace\"><span style=\"font-weight: bold\"> Trainable params: </span><span style=\"color: #00af00; text-decoration-color: #00af00\">0</span> (0.00 B)\n",
       "</pre>\n"
      ],
      "text/plain": [
       "\u001b[1m Trainable params: \u001b[0m\u001b[38;5;34m0\u001b[0m (0.00 B)\n"
      ]
     },
     "metadata": {},
     "output_type": "display_data"
    },
    {
     "data": {
      "text/html": [
       "<pre style=\"white-space:pre;overflow-x:auto;line-height:normal;font-family:Menlo,'DejaVu Sans Mono',consolas,'Courier New',monospace\"><span style=\"font-weight: bold\"> Non-trainable params: </span><span style=\"color: #00af00; text-decoration-color: #00af00\">0</span> (0.00 B)\n",
       "</pre>\n"
      ],
      "text/plain": [
       "\u001b[1m Non-trainable params: \u001b[0m\u001b[38;5;34m0\u001b[0m (0.00 B)\n"
      ]
     },
     "metadata": {},
     "output_type": "display_data"
    }
   ],
   "source": [
    "model2 = Sequential([\n",
    "    Embedding(input_dim=vocab_size, output_dim=128, input_length=max_length),\n",
    "    SimpleRNN(64, return_sequences=False),\n",
    "    Dense(1, activation=\"sigmoid\")\n",
    "])\n",
    "\n",
    "model2.compile(loss=\"binary_crossentropy\", optimizer=\"adam\", metrics=[\"accuracy\"])\n",
    "\n",
    "model2.summary()\n"
   ]
  },
  {
   "cell_type": "code",
   "execution_count": 14,
   "metadata": {
    "colab": {
     "base_uri": "https://localhost:8080/"
    },
    "executionInfo": {
     "elapsed": 349290,
     "status": "ok",
     "timestamp": 1742428657207,
     "user": {
      "displayName": "Abdelwahed Ragab",
      "userId": "16581433264313502329"
     },
     "user_tz": -120
    },
    "id": "vx8PsTV40LwG",
    "outputId": "32c859d6-3d7b-47b1-f811-c323b4dec230"
   },
   "outputs": [
    {
     "name": "stdout",
     "output_type": "stream",
     "text": [
      "Epoch 1/5\n",
      "\u001b[1m625/625\u001b[0m \u001b[32m━━━━━━━━━━━━━━━━━━━━\u001b[0m\u001b[37m\u001b[0m \u001b[1m67s\u001b[0m 101ms/step - accuracy: 0.5026 - loss: 0.6967 - val_accuracy: 0.5133 - val_loss: 0.6923\n",
      "Epoch 2/5\n",
      "\u001b[1m625/625\u001b[0m \u001b[32m━━━━━━━━━━━━━━━━━━━━\u001b[0m\u001b[37m\u001b[0m \u001b[1m78s\u001b[0m 95ms/step - accuracy: 0.5879 - loss: 0.6618 - val_accuracy: 0.5106 - val_loss: 0.7218\n",
      "Epoch 3/5\n",
      "\u001b[1m625/625\u001b[0m \u001b[32m━━━━━━━━━━━━━━━━━━━━\u001b[0m\u001b[37m\u001b[0m \u001b[1m60s\u001b[0m 96ms/step - accuracy: 0.6750 - loss: 0.5346 - val_accuracy: 0.5100 - val_loss: 0.7244\n",
      "Epoch 4/5\n",
      "\u001b[1m625/625\u001b[0m \u001b[32m━━━━━━━━━━━━━━━━━━━━\u001b[0m\u001b[37m\u001b[0m \u001b[1m60s\u001b[0m 96ms/step - accuracy: 0.6636 - loss: 0.5335 - val_accuracy: 0.5125 - val_loss: 0.8203\n",
      "Epoch 5/5\n",
      "\u001b[1m625/625\u001b[0m \u001b[32m━━━━━━━━━━━━━━━━━━━━\u001b[0m\u001b[37m\u001b[0m \u001b[1m84s\u001b[0m 99ms/step - accuracy: 0.6837 - loss: 0.4803 - val_accuracy: 0.5121 - val_loss: 0.8563\n"
     ]
    }
   ],
   "source": [
    "history2 = model2.fit(train_padded, train_labels, epochs=5, batch_size=64, validation_data=(test_padded, test_labels))\n"
   ]
  },
  {
   "cell_type": "markdown",
   "metadata": {
    "id": "wWZv2bkk4r3D"
   },
   "source": [
    "# **Sentiment Analysis on IMDB Movie Reviews Using SIMPLE RNN**"
   ]
  },
  {
   "cell_type": "code",
   "execution_count": 16,
   "metadata": {
    "colab": {
     "base_uri": "https://localhost:8080/"
    },
    "executionInfo": {
     "elapsed": 206,
     "status": "ok",
     "timestamp": 1742429047125,
     "user": {
      "displayName": "Abdelwahed Ragab",
      "userId": "16581433264313502329"
     },
     "user_tz": -120
    },
    "id": "mhHEIZEx0gDU",
    "outputId": "3cd92d58-d96c-49db-b9d8-5aaaff6f9a17"
   },
   "outputs": [
    {
     "name": "stdout",
     "output_type": "stream",
     "text": [
      "\u001b[1m1/1\u001b[0m \u001b[32m━━━━━━━━━━━━━━━━━━━━\u001b[0m\u001b[37m\u001b[0m \u001b[1m0s\u001b[0m 45ms/step\n",
      "\n",
      "Review: This movie was absolutely fantastic! I loved it.\n",
      "Sentiment: Positive 😀\n",
      "\u001b[1m1/1\u001b[0m \u001b[32m━━━━━━━━━━━━━━━━━━━━\u001b[0m\u001b[37m\u001b[0m \u001b[1m0s\u001b[0m 54ms/step\n",
      "\n",
      "Review: Worst movie ever. Completely disappointed.\n",
      "Sentiment: Positive 😀\n"
     ]
    }
   ],
   "source": [
    "def predict_sentiment2(text):\n",
    "    processed_text = encode_text(text)\n",
    "    prediction = model2.predict(processed_text)[0][0]\n",
    "    sentiment = \"Positive 😀\" if prediction > 0.5 else \"Negative 😞\"\n",
    "    print(f\"\\nReview: {text}\")\n",
    "    print(f\"Sentiment: {sentiment}\")\n",
    "\n",
    "predict_sentiment2(\"This movie was absolutely fantastic! I loved it.\")\n",
    "predict_sentiment2(\"Worst movie ever. Completely disappointed.\")\n"
   ]
  },
  {
   "cell_type": "code",
   "execution_count": 17,
   "metadata": {
    "colab": {
     "base_uri": "https://localhost:8080/"
    },
    "executionInfo": {
     "elapsed": 139,
     "status": "ok",
     "timestamp": 1742429081773,
     "user": {
      "displayName": "Abdelwahed Ragab",
      "userId": "16581433264313502329"
     },
     "user_tz": -120
    },
    "id": "ogk46HF82gNn",
    "outputId": "ade16892-9447-4066-b5a5-7ded52c1a54e"
   },
   "outputs": [
    {
     "name": "stdout",
     "output_type": "stream",
     "text": [
      "\u001b[1m1/1\u001b[0m \u001b[32m━━━━━━━━━━━━━━━━━━━━\u001b[0m\u001b[37m\u001b[0m \u001b[1m0s\u001b[0m 42ms/step\n",
      "\n",
      "Review: Nothing about this movie worked. The pacing was slow, the jokes were unfunny, and the acting felt forced.\n",
      "Sentiment: Positive 😀\n"
     ]
    }
   ],
   "source": [
    "predict_sentiment2(\"Nothing about this movie worked. The pacing was slow, the jokes were unfunny, and the acting felt forced.\")"
   ]
  }
 ],
 "metadata": {
  "colab": {
   "authorship_tag": "ABX9TyNzMJJr1H5wexaAYOskjAvb",
   "collapsed_sections": [
    "EQJ_gLY07PSi",
    "tK4JDdckRzqa",
    "tsIEcoqhpYz0",
    "gysude54pgkm",
    "Si_nPhKbpySz",
    "PhvjEcka47Uw",
    "wWZv2bkk4r3D"
   ],
   "provenance": []
  },
  "kernelspec": {
   "display_name": "Python 3",
   "name": "python3"
  },
  "language_info": {
   "name": "python"
  }
 },
 "nbformat": 4,
 "nbformat_minor": 0
}
